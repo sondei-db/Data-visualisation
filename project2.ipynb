{
 "cells": [
  {
   "cell_type": "code",
   "execution_count": null,
   "metadata": {},
   "outputs": [
    {
     "data": {
      "application/vnd.jupyter.widget-view+json": {
       "model_id": "e565ef0aa5f24f8a8f885aee3b5fa474",
       "version_major": 2,
       "version_minor": 0
      },
      "text/plain": [
       "Dropdown(description='Select column:', index=1, options=('Covid Cases Percentage', 'Covid Deaths Percentage', …"
      ]
     },
     "metadata": {},
     "output_type": "display_data"
    },
    {
     "data": {
      "application/vnd.jupyter.widget-view+json": {
       "model_id": "6b8ee54083bc41d8b69bc7b589e3b73d",
       "version_major": 2,
       "version_minor": 0
      },
      "text/plain": [
       "Output()"
      ]
     },
     "metadata": {},
     "output_type": "display_data"
    },
    {
     "data": {
      "application/vnd.plotly.v1+json": {
       "config": {
        "plotlyServerURL": "https://plot.ly"
       },
       "data": [
        {
         "coloraxis": "coloraxis",
         "colorbar": {
          "title": {}
         },
         "geo": "geo",
         "hovertemplate": "<b>%{hovertext}</b><br><br>AlphaCode=%{location}<br>Covid Deaths Percentage=%{z}<extra></extra>",
         "hovertext": [
          "Afghanistan",
          "Albania",
          "Algeria",
          "Andorra",
          "Angola",
          "Antigua and Barbuda",
          "Argentina",
          "Armenia",
          "Aruba",
          "Australia",
          "Austria",
          "Azerbaijan",
          "Bahamas",
          "Bahrain",
          "Bangladesh",
          "Barbados",
          "Belarus",
          "Belgium",
          "Belize",
          "Benin",
          "Bermuda",
          "Bhutan",
          "Bolivia",
          "Bosnia and Herzegovina",
          "Botswana",
          "Brazil",
          "Brunei",
          "Bulgaria",
          "Burkina Faso",
          "Burundi",
          "Cabo Verde",
          "Cambodia",
          "Cameroon",
          "Canada",
          "CAR",
          "Cayman Islands",
          "Chad",
          "Chile",
          "China",
          "Colombia",
          "Congo",
          "Cook Islands",
          "Costa Rica",
          "Croatia",
          "Cuba",
          "CuraĂ§ao",
          "Cyprus",
          "Czechia",
          "Denmark",
          "Djibouti",
          "Dominica",
          "Dominican Republic",
          "Ecuador",
          "Egypt",
          "El Salvador",
          "Equatorial Guinea",
          "Eritrea",
          "Estonia",
          "Eswatini",
          "Ethiopia",
          "Fiji",
          "Finland",
          "France",
          "French Guiana",
          "Gabon",
          "Gambia",
          "Georgia",
          "Germany",
          "Ghana",
          "Gibraltar",
          "Greece",
          "Greenland",
          "Grenada",
          "Guatemala",
          "Guinea",
          "Guinea-Bissau",
          "Guyana",
          "Haiti",
          "Hong Kong",
          "Hungary",
          "India",
          "Indonesia",
          "Iran",
          "Iraq",
          "Ireland",
          "Israel",
          "Italy",
          "Ivory Coast",
          "Jamaica",
          "Japan",
          "Jordan",
          "Kazakhstan",
          "Kenya",
          "Kuwait",
          "Kyrgyzstan",
          "Latvia",
          "Lebanon",
          "Lesotho",
          "Liberia",
          "Libya",
          "Liechtenstein",
          "Lithuania",
          "Luxembourg",
          "Macao",
          "Madagascar",
          "Malawi",
          "Malaysia",
          "Maldives",
          "Mali",
          "Malta",
          "Mauritania",
          "Mauritius",
          "Mexico",
          "Moldova",
          "Monaco",
          "Mongolia",
          "Montenegro",
          "Morocco",
          "Mozambique",
          "Myanmar",
          "Namibia",
          "Nauru",
          "Nepal",
          "Netherlands",
          "New Caledonia",
          "New Zealand",
          "Niger",
          "Nigeria",
          "North Macedonia",
          "Norway",
          "Oman",
          "Pakistan",
          "Palau",
          "Palestine",
          "Panama",
          "Papua New Guinea",
          "Peru",
          "Philippines",
          "Poland",
          "Portugal",
          "Qatar",
          "RĂ©union",
          "Romania",
          "Russia",
          "Rwanda",
          "S. Korea",
          "Saint Kitts and Nevis",
          "Saint Lucia",
          "Saint Martin",
          "Saint Pierre Miquelon",
          "Samoa",
          "San Marino",
          "Sao Tome and Principe",
          "Saudi Arabia",
          "Senegal",
          "Serbia",
          "Singapore",
          "Sint Maarten",
          "Slovakia",
          "Slovenia",
          "Somalia",
          "South Africa",
          "South Sudan",
          "Spain",
          "Sri Lanka",
          "St. Vincent Grenadines",
          "Sudan",
          "Sweden",
          "Switzerland",
          "Syria",
          "Taiwan",
          "Thailand",
          "Timor-Leste",
          "Togo",
          "Tonga",
          "Trinidad and Tobago",
          "Turks and Caicos",
          "UAE",
          "Uganda",
          "UK",
          "Ukraine",
          "Uruguay",
          "USA",
          "Uzbekistan",
          "Vanuatu",
          "Venezuela",
          "Vietnam",
          "Wallis and Futuna",
          "Yemen",
          "Zambia",
          "Zimbabwe"
         ],
         "locations": [
          "AFG",
          "ALB",
          "DZA",
          "AND",
          "AGO",
          "ATG",
          "ARG",
          "ARM",
          "ABW",
          "AUS",
          "AUT",
          "AZE",
          "BHS",
          "BHR",
          "BGD",
          "BRB",
          "BLR",
          "BEL",
          "BLZ",
          "BEN",
          "BMU",
          "BTN",
          "BOL",
          "BIH",
          "BWA",
          "BRA",
          "BRN",
          "BGR",
          "BFA",
          "BDI",
          "CPV",
          "KHM",
          "CMR",
          "CAN",
          "CAF",
          "CYM",
          "TCD",
          "CHL",
          "CHN",
          "COL",
          "COD",
          "COK",
          "CRI",
          "HRV",
          "CUB",
          "CUW",
          "CYP",
          "CZE",
          "DNK",
          "DJI",
          "DMA",
          "DOM",
          "ECU",
          "EGY",
          "SLV",
          "GNQ",
          "ERI",
          "EST",
          "SWZ",
          "ETH",
          "FJI ",
          "FIN",
          "FRA",
          "GUF",
          "GAB",
          "GMB",
          "GEO",
          "DEU",
          "GHA",
          "GIB",
          "GRC",
          "GRL",
          "GRD",
          "GTM",
          "GIN",
          "GNB",
          "GUY",
          "HTI",
          "HKG",
          "HUN",
          "IND",
          "IDN",
          "IRN",
          "IRQ",
          "IRL",
          "ISR",
          "ITA",
          "CIV",
          "JAM ",
          "JPN",
          "JOR",
          "KAZ",
          "KEN",
          "KWT",
          "KGZ",
          "LVA",
          "LBN",
          "LSO",
          "LBR",
          "LBY",
          "LIE",
          "LTU",
          "LUX",
          "MAC",
          "MDG",
          "MWI",
          "MYS",
          "MDV",
          "MLI",
          "MLT",
          "MRT",
          "MUS",
          "MEX",
          "MDA",
          "MCO",
          "MNG ",
          "MNE ",
          "MAR",
          "MOZ",
          "MMR",
          "NAM ",
          "NRU",
          "NPL",
          "NLD",
          "NCL",
          "NZL",
          "NER",
          "NGA",
          "MKD",
          "NOR",
          "OMN",
          "PAK",
          "PLW",
          "PSE",
          "PAN",
          "PNG",
          "PER",
          "PHL",
          "POL",
          "PRT",
          "QAT",
          "REU",
          "ROU",
          "RUS",
          "RWA",
          "KOR",
          "KNA",
          "LCA",
          "MAF",
          "SPM",
          "WSM",
          "SMR",
          "STP",
          "SAU",
          "SEN",
          "SRB",
          "SGP",
          "SXM",
          "SVK",
          "SVN",
          "SOM",
          "ZAF",
          "SSD",
          "ESP",
          "LKA",
          "VCT",
          "SDN",
          "SWE",
          "CHE",
          "SYR",
          "TWN",
          "THA",
          "TLS",
          "TGO",
          "TON",
          "TTO",
          "TCA",
          "ARE",
          "UGA",
          "GBR",
          "UKR",
          "URY",
          "USA",
          "UZB",
          "VUT",
          "VEN",
          "VNM",
          "WLF",
          "YEM",
          "ZMB",
          "ZWE"
         ],
         "name": "",
         "type": "choropleth",
         "z": [
          3.7795200076722053,
          1.0758094006888772,
          2.5355776813153605,
          0.34490687514371116,
          1.8358305445695162,
          1.6033384581594552,
          1.2993847347873673,
          1.9544492475471291,
          0.5364489805196281,
          0.16480092950734304,
          0.3752273482590396,
          1.2180775511387243,
          2.2218665813128484,
          0.22028632939873108,
          1.4449664205548214,
          0.5378825701555244,
          0.7160699249625517,
          0.7152724534311954,
          9.736767619586754,
          0.5823716460037872,
          0.8366194180965576,
          0.03354364667358837,
          1.8809985976265713,
          4.049737906842325,
          0.008504770264893219,
          1.8929584532939685,
          0.8175277959450621,
          2.9472158193520896,
          1.7979568671963677,
          0.07103865998654005,
          0.6531812933938541,
          2.203427714448458,
          1.5847668820014034,
          0.11071904525811295,
          0.7352941176470588,
          0.1175648195221149,
          2.5352848928384732,
          1.2465762228849844,
          1.0474824260583109,
          2.241646842530783,
          1.5211822660098522,
          0.028526601055484237,
          0.7720608071652099,
          1.4103251865759951,
          0.07667843061815581,
          0.6414995868307746,
          0.2002604786645567,
          0.9218262495209715,
          0.256677151195605,
          1.2045889101338432,
          0.46954314720812185,
          0.6641468273506086,
          3.4190131834910993,
          4.7732451589756515,
          0.20962906063384293,
          1.0645724258289702,
          1.0108941014819903,
          0.4743513099230971,
          1.9181740925094086,
          1.5158218408867516,
          12.830572507991864,
          0.5922725536963388,
          0.41552400495988406,
          0.42844901456726653,
          0.6247320389538801,
          2.955665024630542,
          0.9329834966761843,
          0.4386229023299283,
          0.8544111459161251,
          0.5441443208000392,
          0.0624178717975804,
          0.1754239411912121,
          12.09349593495935,
          1.6374924359837864,
          12.21234309623431,
          1.9671398234044932,
          1.7738176833447565,
          2.5237703955863364,
          0.46425791024856805,
          2.2202133050422654,
          0.11877952815115549,
          2.389451626817214,
          1.9135682510724648,
          1.029184216876999,
          0.4976906378050796,
          0.2547538344181561,
          0.7340085988769687,
          0.9467845695710486,
          0.2268475362923465,
          0.2098872968520557,
          0.8083585718807761,
          0.974097332915101,
          16.59228143869782,
          0.038771501588575535,
          1.4477811338289963,
          0.6375114701826514,
          0.08782075125402986,
          20.781833860304687,
          3.6467377821880427,
          1.2692196970593224,
          4.170571696344892,
          0.7360056752244837,
          0.3805116252514634,
          3.4403669724770642,
          2.092087221902782,
          3.033006244424621,
          0.7334720117349168,
          0.16746089438117545,
          2.2664185706006164,
          0.7039004971724385,
          1.5660095814026547,
          2.5040814366657065,
          4.50850486655451,
          1.996582441499784,
          0.40483308420528147,
          0.21619830315586022,
          0.9767596165598645,
          1.2808903980381061,
          0.9625248928851607,
          3.0750055220725128,
          2.394269683321522,
          0.02164033758926639,
          0.12006768541067744,
          0.2678590154383921,
          0.39326194501847334,
          0.1732532058258166,
          3.141677575269359,
          1.1840293023796924,
          2.782107681827104,
          0.3459065023926553,
          1.1585959659430867,
          0.1943776394662735,
          0.1503508185766789,
          0.8701981294926957,
          0.8348054435219545,
          1.438539989264627,
          4.885085106482677,
          1.615385861728155,
          1.8610001998362127,
          0.46769293591715316,
          0.13927972485148235,
          0.18913551281655502,
          2.0323572348440875,
          1.799323602822317,
          11.030129987226688,
          0.11089156807485867,
          0.6978155339805826,
          1.3723450659329597,
          0.5150004087304831,
          0.057937427578215524,
          0.1802697830546404,
          0.5207666367866137,
          1.2243599936396883,
          1.1563332616714292,
          2.21704798542215,
          0.7162922598674812,
          0.0776686767909576,
          0.8083560399636693,
          1.12558862868526,
          0.5337965218496473,
          4.982063108573102,
          2.529483728413897,
          0.7513066202090593,
          0.8625000163857088,
          2.504207658161071,
          1.2832550860719876,
          7.845690439584575,
          0.8630541111092136,
          0.32952542820406594,
          5.5071101596087235,
          0.1709160382799259,
          0.716418756653291,
          0.5893657911595132,
          0.7369009503481222,
          0.07768614796223258,
          2.3021904336164507,
          0.5826433609322293,
          0.22374498408151636,
          0.2130281690140845,
          0.8410973207492465,
          0.20673611127922206,
          0.7367992950586322,
          1.0873024284292019,
          0.6533182741542182,
          0.1165307141668054,
          1.0596696441359206,
          0.37466681149225767,
          0.20426028596440038,
          18.07450816241105,
          1.187628938587816,
          2.1605009059425244
         ]
        }
       ],
       "layout": {
        "coloraxis": {
         "cmax": 30,
         "cmin": 0,
         "colorbar": {
          "ticktext": [],
          "title": {
           "text": ""
          }
         },
         "colorscale": [
          [
           0,
           "#ffba08"
          ],
          [
           0.02,
           "#faa307"
          ],
          [
           0.05,
           "#f48c06"
          ],
          [
           0.1,
           "#f48c06"
          ],
          [
           0.2,
           "#dc2f02"
          ],
          [
           0.3,
           "#d00000"
          ],
          [
           0.4,
           "#9d0208"
          ],
          [
           0.5,
           "#6a040f"
          ],
          [
           0.7,
           "#370617"
          ],
          [
           1,
           "#03071e"
          ]
         ]
        },
        "geo": {
         "center": {},
         "domain": {
          "x": [
           0,
           1
          ],
          "y": [
           0,
           1
          ]
         }
        },
        "height": 800,
        "legend": {
         "title": {
          "text": ""
         },
         "tracegroupgap": 0
        },
        "margin": {
         "t": 60
        },
        "showlegend": false,
        "template": {
         "data": {
          "bar": [
           {
            "error_x": {
             "color": "#2a3f5f"
            },
            "error_y": {
             "color": "#2a3f5f"
            },
            "marker": {
             "line": {
              "color": "#E5ECF6",
              "width": 0.5
             },
             "pattern": {
              "fillmode": "overlay",
              "size": 10,
              "solidity": 0.2
             }
            },
            "type": "bar"
           }
          ],
          "barpolar": [
           {
            "marker": {
             "line": {
              "color": "#E5ECF6",
              "width": 0.5
             },
             "pattern": {
              "fillmode": "overlay",
              "size": 10,
              "solidity": 0.2
             }
            },
            "type": "barpolar"
           }
          ],
          "carpet": [
           {
            "aaxis": {
             "endlinecolor": "#2a3f5f",
             "gridcolor": "white",
             "linecolor": "white",
             "minorgridcolor": "white",
             "startlinecolor": "#2a3f5f"
            },
            "baxis": {
             "endlinecolor": "#2a3f5f",
             "gridcolor": "white",
             "linecolor": "white",
             "minorgridcolor": "white",
             "startlinecolor": "#2a3f5f"
            },
            "type": "carpet"
           }
          ],
          "choropleth": [
           {
            "colorbar": {
             "outlinewidth": 0,
             "ticks": ""
            },
            "type": "choropleth"
           }
          ],
          "contour": [
           {
            "colorbar": {
             "outlinewidth": 0,
             "ticks": ""
            },
            "colorscale": [
             [
              0,
              "#0d0887"
             ],
             [
              0.1111111111111111,
              "#46039f"
             ],
             [
              0.2222222222222222,
              "#7201a8"
             ],
             [
              0.3333333333333333,
              "#9c179e"
             ],
             [
              0.4444444444444444,
              "#bd3786"
             ],
             [
              0.5555555555555556,
              "#d8576b"
             ],
             [
              0.6666666666666666,
              "#ed7953"
             ],
             [
              0.7777777777777778,
              "#fb9f3a"
             ],
             [
              0.8888888888888888,
              "#fdca26"
             ],
             [
              1,
              "#f0f921"
             ]
            ],
            "type": "contour"
           }
          ],
          "contourcarpet": [
           {
            "colorbar": {
             "outlinewidth": 0,
             "ticks": ""
            },
            "type": "contourcarpet"
           }
          ],
          "heatmap": [
           {
            "colorbar": {
             "outlinewidth": 0,
             "ticks": ""
            },
            "colorscale": [
             [
              0,
              "#0d0887"
             ],
             [
              0.1111111111111111,
              "#46039f"
             ],
             [
              0.2222222222222222,
              "#7201a8"
             ],
             [
              0.3333333333333333,
              "#9c179e"
             ],
             [
              0.4444444444444444,
              "#bd3786"
             ],
             [
              0.5555555555555556,
              "#d8576b"
             ],
             [
              0.6666666666666666,
              "#ed7953"
             ],
             [
              0.7777777777777778,
              "#fb9f3a"
             ],
             [
              0.8888888888888888,
              "#fdca26"
             ],
             [
              1,
              "#f0f921"
             ]
            ],
            "type": "heatmap"
           }
          ],
          "heatmapgl": [
           {
            "colorbar": {
             "outlinewidth": 0,
             "ticks": ""
            },
            "colorscale": [
             [
              0,
              "#0d0887"
             ],
             [
              0.1111111111111111,
              "#46039f"
             ],
             [
              0.2222222222222222,
              "#7201a8"
             ],
             [
              0.3333333333333333,
              "#9c179e"
             ],
             [
              0.4444444444444444,
              "#bd3786"
             ],
             [
              0.5555555555555556,
              "#d8576b"
             ],
             [
              0.6666666666666666,
              "#ed7953"
             ],
             [
              0.7777777777777778,
              "#fb9f3a"
             ],
             [
              0.8888888888888888,
              "#fdca26"
             ],
             [
              1,
              "#f0f921"
             ]
            ],
            "type": "heatmapgl"
           }
          ],
          "histogram": [
           {
            "marker": {
             "pattern": {
              "fillmode": "overlay",
              "size": 10,
              "solidity": 0.2
             }
            },
            "type": "histogram"
           }
          ],
          "histogram2d": [
           {
            "colorbar": {
             "outlinewidth": 0,
             "ticks": ""
            },
            "colorscale": [
             [
              0,
              "#0d0887"
             ],
             [
              0.1111111111111111,
              "#46039f"
             ],
             [
              0.2222222222222222,
              "#7201a8"
             ],
             [
              0.3333333333333333,
              "#9c179e"
             ],
             [
              0.4444444444444444,
              "#bd3786"
             ],
             [
              0.5555555555555556,
              "#d8576b"
             ],
             [
              0.6666666666666666,
              "#ed7953"
             ],
             [
              0.7777777777777778,
              "#fb9f3a"
             ],
             [
              0.8888888888888888,
              "#fdca26"
             ],
             [
              1,
              "#f0f921"
             ]
            ],
            "type": "histogram2d"
           }
          ],
          "histogram2dcontour": [
           {
            "colorbar": {
             "outlinewidth": 0,
             "ticks": ""
            },
            "colorscale": [
             [
              0,
              "#0d0887"
             ],
             [
              0.1111111111111111,
              "#46039f"
             ],
             [
              0.2222222222222222,
              "#7201a8"
             ],
             [
              0.3333333333333333,
              "#9c179e"
             ],
             [
              0.4444444444444444,
              "#bd3786"
             ],
             [
              0.5555555555555556,
              "#d8576b"
             ],
             [
              0.6666666666666666,
              "#ed7953"
             ],
             [
              0.7777777777777778,
              "#fb9f3a"
             ],
             [
              0.8888888888888888,
              "#fdca26"
             ],
             [
              1,
              "#f0f921"
             ]
            ],
            "type": "histogram2dcontour"
           }
          ],
          "mesh3d": [
           {
            "colorbar": {
             "outlinewidth": 0,
             "ticks": ""
            },
            "type": "mesh3d"
           }
          ],
          "parcoords": [
           {
            "line": {
             "colorbar": {
              "outlinewidth": 0,
              "ticks": ""
             }
            },
            "type": "parcoords"
           }
          ],
          "pie": [
           {
            "automargin": true,
            "type": "pie"
           }
          ],
          "scatter": [
           {
            "fillpattern": {
             "fillmode": "overlay",
             "size": 10,
             "solidity": 0.2
            },
            "type": "scatter"
           }
          ],
          "scatter3d": [
           {
            "line": {
             "colorbar": {
              "outlinewidth": 0,
              "ticks": ""
             }
            },
            "marker": {
             "colorbar": {
              "outlinewidth": 0,
              "ticks": ""
             }
            },
            "type": "scatter3d"
           }
          ],
          "scattercarpet": [
           {
            "marker": {
             "colorbar": {
              "outlinewidth": 0,
              "ticks": ""
             }
            },
            "type": "scattercarpet"
           }
          ],
          "scattergeo": [
           {
            "marker": {
             "colorbar": {
              "outlinewidth": 0,
              "ticks": ""
             }
            },
            "type": "scattergeo"
           }
          ],
          "scattergl": [
           {
            "marker": {
             "colorbar": {
              "outlinewidth": 0,
              "ticks": ""
             }
            },
            "type": "scattergl"
           }
          ],
          "scattermapbox": [
           {
            "marker": {
             "colorbar": {
              "outlinewidth": 0,
              "ticks": ""
             }
            },
            "type": "scattermapbox"
           }
          ],
          "scatterpolar": [
           {
            "marker": {
             "colorbar": {
              "outlinewidth": 0,
              "ticks": ""
             }
            },
            "type": "scatterpolar"
           }
          ],
          "scatterpolargl": [
           {
            "marker": {
             "colorbar": {
              "outlinewidth": 0,
              "ticks": ""
             }
            },
            "type": "scatterpolargl"
           }
          ],
          "scatterternary": [
           {
            "marker": {
             "colorbar": {
              "outlinewidth": 0,
              "ticks": ""
             }
            },
            "type": "scatterternary"
           }
          ],
          "surface": [
           {
            "colorbar": {
             "outlinewidth": 0,
             "ticks": ""
            },
            "colorscale": [
             [
              0,
              "#0d0887"
             ],
             [
              0.1111111111111111,
              "#46039f"
             ],
             [
              0.2222222222222222,
              "#7201a8"
             ],
             [
              0.3333333333333333,
              "#9c179e"
             ],
             [
              0.4444444444444444,
              "#bd3786"
             ],
             [
              0.5555555555555556,
              "#d8576b"
             ],
             [
              0.6666666666666666,
              "#ed7953"
             ],
             [
              0.7777777777777778,
              "#fb9f3a"
             ],
             [
              0.8888888888888888,
              "#fdca26"
             ],
             [
              1,
              "#f0f921"
             ]
            ],
            "type": "surface"
           }
          ],
          "table": [
           {
            "cells": {
             "fill": {
              "color": "#EBF0F8"
             },
             "line": {
              "color": "white"
             }
            },
            "header": {
             "fill": {
              "color": "#C8D4E3"
             },
             "line": {
              "color": "white"
             }
            },
            "type": "table"
           }
          ]
         },
         "layout": {
          "annotationdefaults": {
           "arrowcolor": "#2a3f5f",
           "arrowhead": 0,
           "arrowwidth": 1
          },
          "autotypenumbers": "strict",
          "coloraxis": {
           "colorbar": {
            "outlinewidth": 0,
            "ticks": ""
           }
          },
          "colorscale": {
           "diverging": [
            [
             0,
             "#8e0152"
            ],
            [
             0.1,
             "#c51b7d"
            ],
            [
             0.2,
             "#de77ae"
            ],
            [
             0.3,
             "#f1b6da"
            ],
            [
             0.4,
             "#fde0ef"
            ],
            [
             0.5,
             "#f7f7f7"
            ],
            [
             0.6,
             "#e6f5d0"
            ],
            [
             0.7,
             "#b8e186"
            ],
            [
             0.8,
             "#7fbc41"
            ],
            [
             0.9,
             "#4d9221"
            ],
            [
             1,
             "#276419"
            ]
           ],
           "sequential": [
            [
             0,
             "#0d0887"
            ],
            [
             0.1111111111111111,
             "#46039f"
            ],
            [
             0.2222222222222222,
             "#7201a8"
            ],
            [
             0.3333333333333333,
             "#9c179e"
            ],
            [
             0.4444444444444444,
             "#bd3786"
            ],
            [
             0.5555555555555556,
             "#d8576b"
            ],
            [
             0.6666666666666666,
             "#ed7953"
            ],
            [
             0.7777777777777778,
             "#fb9f3a"
            ],
            [
             0.8888888888888888,
             "#fdca26"
            ],
            [
             1,
             "#f0f921"
            ]
           ],
           "sequentialminus": [
            [
             0,
             "#0d0887"
            ],
            [
             0.1111111111111111,
             "#46039f"
            ],
            [
             0.2222222222222222,
             "#7201a8"
            ],
            [
             0.3333333333333333,
             "#9c179e"
            ],
            [
             0.4444444444444444,
             "#bd3786"
            ],
            [
             0.5555555555555556,
             "#d8576b"
            ],
            [
             0.6666666666666666,
             "#ed7953"
            ],
            [
             0.7777777777777778,
             "#fb9f3a"
            ],
            [
             0.8888888888888888,
             "#fdca26"
            ],
            [
             1,
             "#f0f921"
            ]
           ]
          },
          "colorway": [
           "#636efa",
           "#EF553B",
           "#00cc96",
           "#ab63fa",
           "#FFA15A",
           "#19d3f3",
           "#FF6692",
           "#B6E880",
           "#FF97FF",
           "#FECB52"
          ],
          "font": {
           "color": "#2a3f5f"
          },
          "geo": {
           "bgcolor": "white",
           "lakecolor": "white",
           "landcolor": "#E5ECF6",
           "showlakes": true,
           "showland": true,
           "subunitcolor": "white"
          },
          "hoverlabel": {
           "align": "left"
          },
          "hovermode": "closest",
          "mapbox": {
           "style": "light"
          },
          "paper_bgcolor": "white",
          "plot_bgcolor": "#E5ECF6",
          "polar": {
           "angularaxis": {
            "gridcolor": "white",
            "linecolor": "white",
            "ticks": ""
           },
           "bgcolor": "#E5ECF6",
           "radialaxis": {
            "gridcolor": "white",
            "linecolor": "white",
            "ticks": ""
           }
          },
          "scene": {
           "xaxis": {
            "backgroundcolor": "#E5ECF6",
            "gridcolor": "white",
            "gridwidth": 2,
            "linecolor": "white",
            "showbackground": true,
            "ticks": "",
            "zerolinecolor": "white"
           },
           "yaxis": {
            "backgroundcolor": "#E5ECF6",
            "gridcolor": "white",
            "gridwidth": 2,
            "linecolor": "white",
            "showbackground": true,
            "ticks": "",
            "zerolinecolor": "white"
           },
           "zaxis": {
            "backgroundcolor": "#E5ECF6",
            "gridcolor": "white",
            "gridwidth": 2,
            "linecolor": "white",
            "showbackground": true,
            "ticks": "",
            "zerolinecolor": "white"
           }
          },
          "shapedefaults": {
           "line": {
            "color": "#2a3f5f"
           }
          },
          "ternary": {
           "aaxis": {
            "gridcolor": "white",
            "linecolor": "white",
            "ticks": ""
           },
           "baxis": {
            "gridcolor": "white",
            "linecolor": "white",
            "ticks": ""
           },
           "bgcolor": "#E5ECF6",
           "caxis": {
            "gridcolor": "white",
            "linecolor": "white",
            "ticks": ""
           }
          },
          "title": {
           "x": 0.05
          },
          "xaxis": {
           "automargin": true,
           "gridcolor": "white",
           "linecolor": "white",
           "ticks": "",
           "title": {
            "standoff": 15
           },
           "zerolinecolor": "white",
           "zerolinewidth": 2
          },
          "yaxis": {
           "automargin": true,
           "gridcolor": "white",
           "linecolor": "white",
           "ticks": "",
           "title": {
            "standoff": 15
           },
           "zerolinecolor": "white",
           "zerolinewidth": 2
          }
         }
        },
        "title": {
         "font": {
          "size": 24
         },
         "text": "Covid Deaths Percentage",
         "x": 0.5,
         "y": 0.95
        },
        "width": 1400
       }
      }
     },
     "metadata": {},
     "output_type": "display_data"
    }
   ],
   "source": [
    "import plotly.express as px\n",
    "import pandas as pd\n",
    "import ipywidgets as widgets\n",
    "from IPython.display import display, clear_output\n",
    "\n",
    "data = pd.read_csv('covid_worldwide.csv')\n",
    "\n",
    "\n",
    "data['Covid Cases Percentage'] = (data['Total Cases'] / data['Population']) * 100\n",
    "data['Covid Deaths Percentage'] = (data['Total Deaths'] / data['Total Cases']) * 100\n",
    "data['Covid Recovered Percentage'] = (data['Total Recovered'] / data['Total Cases']) * 100\n",
    "\n",
    "color_range = {\n",
    "    'Covid Cases Percentage':\n",
    "    [0, 100],\n",
    "    'Covid Deaths Percentage':\n",
    "    [0, 30],\n",
    "    'Covid Recovered Percentage':\n",
    "    [0, 100],}  \n",
    "\n",
    "custom_color_scale = {\n",
    "    'Covid Cases Percentage' : [\n",
    "    [0.0, '#FFBA08'],\n",
    "    [0.02, '#FAA307'],\n",
    "    [0.04, '#F48C06'],\n",
    "    [0.06, '#E85D04'],\n",
    "    [0.1, '#dc2f02'],\n",
    "    [0.2, '#d00000'],\n",
    "    [0.4, '#9d0208'],\n",
    "    [0.6, '#6a040f'],\n",
    "    [0.9, '#370617'],\n",
    "    [1.0, '#03071e']\n",
    "],\n",
    "    'Covid Deaths Percentage' : [\n",
    "    [0.0, '#ffba08'],\n",
    "    [0.02, '#faa307'],\n",
    "    [0.05, '#f48c06'],\n",
    "    [0.1, '#f48c06'],\n",
    "    [0.2, '#dc2f02'],\n",
    "    [0.3, '#d00000'],\n",
    "    [0.4, '#9d0208'],\n",
    "    [0.5, '#6a040f'],\n",
    "    [0.7, '#370617'],\n",
    "    [1.0, '#03071e']\n",
    "],\n",
    "    'Covid Recovered Percentage' : [\n",
    "    [0.0, '#252422'],\n",
    "    [0.02, '#233d4d'],\n",
    "    [0.04, '#132a13'],\n",
    "    [0.06, '#31572c'],\n",
    "    [0.1, '#4f772d'],\n",
    "    [0.2, '#004b23'],\n",
    "    [0.4, '#007200'],\n",
    "    [0.6, '#008000'],\n",
    "    [0.9, '#38b000'],\n",
    "    [1.0, '#70e000']\n",
    "]}\n",
    "\n",
    "\n",
    "columns = ['Covid Cases Percentage', 'Covid Deaths Percentage', 'Covid Recovered Percentage']  # List of column names for filter options\n",
    "dropdown = widgets.Dropdown(options=columns, description='Select column:')\n",
    "display(dropdown)\n",
    "\n",
    "output = widgets.Output()\n",
    "display(output)\n",
    "\n",
    "def create_choropleth(column):\n",
    "    with output:\n",
    "        clear_output() \n",
    "\n",
    "        fig = px.choropleth(\n",
    "            data,\n",
    "            locations='AlphaCode',\n",
    "            color=column,\n",
    "            hover_name='Country',\n",
    "            color_continuous_scale=custom_color_scale[column],\n",
    "            range_color=color_range[column],\n",
    "        )\n",
    "        fig.update_layout(height=800, width=1400)\n",
    "        fig.update_layout(legend_title_text='', title=column, title_font={'size': 24}, title_x=0.5, title_y=0.95)\n",
    "        fig.update_layout(showlegend=False)\n",
    "        fig.update_traces(colorbar_title=None)\n",
    "        fig.update_layout(\n",
    "            coloraxis_colorbar=dict(\n",
    "                title='',\n",
    "                ticktext=[]  \n",
    "            )\n",
    "        )\n",
    "        fig.show()\n",
    "        \n",
    "def on_dropdown_change(change):    \n",
    "    clear_output() \n",
    "    selected_column = change['new']\n",
    "    dropdown = widgets.Dropdown(options=columns, description='Select column:', value = selected_column)\n",
    "    display(dropdown)\n",
    "\n",
    "    output = widgets.Output()\n",
    "\n",
    "    dropdown.observe(on_dropdown_change, names='value')\n",
    "\n",
    "    display(output)\n",
    "\n",
    "    create_choropleth(selected_column)\n",
    "\n",
    "dropdown.observe(on_dropdown_change, names='value')\n",
    "\n",
    "default_column = dropdown.value\n",
    "create_choropleth(default_column)\n"
   ]
  }
 ],
 "metadata": {
  "kernelspec": {
   "display_name": "base",
   "language": "python",
   "name": "python3"
  },
  "language_info": {
   "codemirror_mode": {
    "name": "ipython",
    "version": 3
   },
   "file_extension": ".py",
   "mimetype": "text/x-python",
   "name": "python",
   "nbconvert_exporter": "python",
   "pygments_lexer": "ipython3",
   "version": "3.8.3"
  },
  "orig_nbformat": 4
 },
 "nbformat": 4,
 "nbformat_minor": 2
}
